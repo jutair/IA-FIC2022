{
 "cells": [
  {
   "cell_type": "code",
   "execution_count": 30,
   "metadata": {},
   "outputs": [],
   "source": [
    "import numpy as np"
   ]
  },
  {
   "cell_type": "code",
   "execution_count": 87,
   "metadata": {},
   "outputs": [],
   "source": [
    "def progressao_aritmetica(a1, r, n):\n",
    "    '''\n",
    "    Crie uma função que recebe um número inteiro a1, a razão de progressão aritmética r \n",
    "    e um número inteiro n > 1 e retorna uma lista com os n primeiros termos da progressão aritmética\n",
    "\n",
    "    >>> progressao_aritmetica(1, 2, 4)\n",
    "    [1, 3, 5, 7]\n",
    "    ''' \n",
    "    lista_pa = []\n",
    "     ### Seu código inicia aqui ###\n",
    "    lista_pa.append(a1)\n",
    "    for i in range(n-1):\n",
    "        lista_pa.append(lista_pa[-1] + r)\n",
    "    ### Seu código termina aqui ###\n",
    "    return lista_pa"
   ]
  }
 ],
 "metadata": {
  "interpreter": {
   "hash": "bd541a2a30799b7f615710d01ca827a8b409e14cf7373f72dbac995137a11fad"
  },
  "kernelspec": {
   "display_name": "Python 3.10.0 64-bit",
   "language": "python",
   "name": "python3"
  },
  "language_info": {
   "codemirror_mode": {
    "name": "ipython",
    "version": 3
   },
   "file_extension": ".py",
   "mimetype": "text/x-python",
   "name": "python",
   "nbconvert_exporter": "python",
   "pygments_lexer": "ipython3",
   "version": "3.10.0"
  },
  "orig_nbformat": 4
 },
 "nbformat": 4,
 "nbformat_minor": 2
}
