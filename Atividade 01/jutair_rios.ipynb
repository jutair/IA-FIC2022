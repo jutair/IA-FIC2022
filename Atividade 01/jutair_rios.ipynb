{
 "cells": [
  {
   "cell_type": "code",
   "execution_count": 30,
   "metadata": {},
   "outputs": [],
   "source": [
    "import numpy as np\n"
   ]
  },
  {
   "cell_type": "code",
   "execution_count": 31,
   "metadata": {},
   "outputs": [],
   "source": [
    "def progressao_aritmetica(a1, r, n):\n",
    " ### Seu código inicia aqui ###  \n",
    "    lista_pa = []\t\n",
    "    lista_pa.append(a1)\n",
    "    for i in range(n-1):\n",
    "        lista_pa.append(lista_pa[-1] + r)\n",
    "  ### Seu código termina aqui ###\n",
    "    return lista_pa"
   ]
  },
  {
   "cell_type": "code",
   "execution_count": 32,
   "metadata": {},
   "outputs": [
    {
     "data": {
      "text/plain": [
       "[1, 3, 5, 7, 9, 11, 13, 15, 17, 19, 21, 23, 25, 27, 29, 31, 33, 35, 37, 39]"
      ]
     },
     "execution_count": 32,
     "metadata": {},
     "output_type": "execute_result"
    }
   ],
   "source": [
    "progressao_aritmetica(1, 2, 20)"
   ]
  },
  {
   "cell_type": "code",
   "execution_count": 33,
   "metadata": {},
   "outputs": [],
   "source": [
    "def soma_pa(a1, r, n):\n",
    "    soma = 0\n",
    "    ### Seu código inicia aqui ###\t\n",
    "    lista_pa = []\t\n",
    "    lista_pa.append(a1)\n",
    "    for i in range(n-1):\n",
    "        lista_pa.append(lista_pa[-1] + r)\n",
    "    soma= sum(lista_pa)\n",
    "    ##print(lista_pa)\n",
    "    ### Seu código termina aqui ###\n",
    "    return soma"
   ]
  },
  {
   "cell_type": "code",
   "execution_count": 34,
   "metadata": {},
   "outputs": [
    {
     "data": {
      "text/plain": [
       "16"
      ]
     },
     "execution_count": 34,
     "metadata": {},
     "output_type": "execute_result"
    }
   ],
   "source": [
    "soma_pa(1, 2, 4)"
   ]
  },
  {
   "cell_type": "code",
   "execution_count": 35,
   "metadata": {},
   "outputs": [],
   "source": [
    "def progressao_geometrica(a1, q, n):\n",
    "    pg = []\t\n",
    "    ### Seu código inicia aqui ###\n",
    "    pg.append(a1)\n",
    "    for i in range(n-1):\n",
    "        pg.append(pg[-1] * q)\n",
    "    ### Seu código termina aqui ###\n",
    "    return pg"
   ]
  },
  {
   "cell_type": "code",
   "execution_count": 36,
   "metadata": {},
   "outputs": [
    {
     "data": {
      "text/plain": [
       "[1, 2, 4, 8]"
      ]
     },
     "execution_count": 36,
     "metadata": {},
     "output_type": "execute_result"
    }
   ],
   "source": [
    "progressao_geometrica (1, 2, 4)"
   ]
  },
  {
   "cell_type": "code",
   "execution_count": 37,
   "metadata": {},
   "outputs": [
    {
     "data": {
      "text/plain": [
       "[1, 2, 4]"
      ]
     },
     "execution_count": 37,
     "metadata": {},
     "output_type": "execute_result"
    }
   ],
   "source": [
    "progressao_geometrica (1, 2, 3)"
   ]
  },
  {
   "cell_type": "code",
   "execution_count": 38,
   "metadata": {},
   "outputs": [],
   "source": [
    "def soma_pg(a1, q, n):\n",
    "    soma = 0\n",
    "### Seu código inicia aqui ###\t\n",
    "    pg = []\t\n",
    "    pg.append(a1)\n",
    "    for i in range(n-1):\n",
    "     pg.append(pg[-1] * q)\n",
    "    soma = sum(pg)\n",
    "    ### Seu código termina aqui ###\n",
    "    return soma"
   ]
  },
  {
   "cell_type": "code",
   "execution_count": 39,
   "metadata": {},
   "outputs": [
    {
     "data": {
      "text/plain": [
       "7"
      ]
     },
     "execution_count": 39,
     "metadata": {},
     "output_type": "execute_result"
    }
   ],
   "source": [
    "soma_pg(1, 2, 3)"
   ]
  },
  {
   "cell_type": "code",
   "execution_count": 40,
   "metadata": {},
   "outputs": [
    {
     "data": {
      "text/plain": [
       "15"
      ]
     },
     "execution_count": 40,
     "metadata": {},
     "output_type": "execute_result"
    }
   ],
   "source": [
    "soma_pg(1, 2, 4)"
   ]
  },
  {
   "cell_type": "code",
   "execution_count": 41,
   "metadata": {},
   "outputs": [],
   "source": [
    "def fibonacci(n):\n",
    "    fib = []\n",
    "    ### Seu código inicia aqui ###\n",
    "    fib = [0,1]\n",
    "    if n==1:      \n",
    "        fib =[0]\n",
    "    elif n==2:\n",
    "        fib = [0,1]\n",
    "    else:\n",
    "        while (len(fib)<n): # Enquanto o número de itens for menor que n\n",
    "            fib.append(0)\n",
    "        if (n==0 or n==1): # Se n for igual a zero ou 1, retorna 1 elemento\n",
    "            return 1\n",
    "        else:\n",
    "            fib[0]= 0\n",
    "            fib[1]= 1\n",
    "            for i in range(2, n):\n",
    "                fib[i]=fib[i-1]+fib[i-2]\n",
    "    return fib\n",
    "    ### Seu código termina aqui ###     "
   ]
  },
  {
   "cell_type": "code",
   "execution_count": 42,
   "metadata": {},
   "outputs": [
    {
     "data": {
      "text/plain": [
       "[0, 1]"
      ]
     },
     "execution_count": 42,
     "metadata": {},
     "output_type": "execute_result"
    }
   ],
   "source": [
    "fibonacci(2)"
   ]
  },
  {
   "cell_type": "code",
   "execution_count": 43,
   "metadata": {},
   "outputs": [],
   "source": [
    "def soma_fibonacci(n):\n",
    "\n",
    "    soma = 0\n",
    "    ### Seu código inicia aqui ###\t\n",
    "    fib = [0,1]\n",
    "    if n==1:      \n",
    "        fib =[0]\n",
    "    elif n==2:\n",
    "        fib = [0,1]\n",
    "    else:\n",
    "        while (len(fib)<n): # Enquanto o número de itens for menor que n\n",
    "            fib.append(0)\n",
    "        if (n==0 or n==1): # Se n for igual a zero ou 1, retorna 1 elemento\n",
    "            return 1\n",
    "        else:\n",
    "            fib[0]= 0\n",
    "            fib[1]= 1\n",
    "            for i in range(2, n):\n",
    "                fib[i]=fib[i-1]+fib[i-2]\n",
    "        soma = sum(fib)\n",
    "    ### Seu código termina aqui ###\n",
    "    return soma"
   ]
  },
  {
   "cell_type": "code",
   "execution_count": 44,
   "metadata": {},
   "outputs": [
    {
     "data": {
      "text/plain": [
       "0"
      ]
     },
     "execution_count": 44,
     "metadata": {},
     "output_type": "execute_result"
    }
   ],
   "source": [
    "soma_fibonacci(1)"
   ]
  },
  {
   "cell_type": "code",
   "execution_count": 45,
   "metadata": {},
   "outputs": [],
   "source": [
    "def primo(n):\n",
    "    resultado = False\n",
    "    ### Seu código inicia aqui ###\n",
    "    total= 0\n",
    "    for i in range(1, n+1): \n",
    "        if n %i ==0:\n",
    "         total += 1\n",
    "    if total ==2:\n",
    "          resultado = True\n",
    "    else:\n",
    "        resultado = False\n",
    "    ### Seu código termina aqui ###\n",
    "    return resultado"
   ]
  },
  {
   "cell_type": "code",
   "execution_count": 46,
   "metadata": {},
   "outputs": [
    {
     "data": {
      "text/plain": [
       "False"
      ]
     },
     "execution_count": 46,
     "metadata": {},
     "output_type": "execute_result"
    }
   ],
   "source": [
    "primo(8)"
   ]
  },
  {
   "cell_type": "code",
   "execution_count": 47,
   "metadata": {},
   "outputs": [],
   "source": [
    "def fit_linear(x, y):\n",
    "    A, B = 0, 0\n",
    "    ### Seu código inicia aqui ###\n",
    "    x = np.array(x)\n",
    "    y = np.array(y)\n",
    "    n = x.shape[0]\n",
    "    B= (n*(x*y).sum()-x.sum()*y.sum())/(n*(x**2).sum()-(x.sum())**2)\n",
    "    A= (y.sum()-B*x.sum())/n\n",
    "    ### Seu código termina aqui ###\n",
    "    return A, B"
   ]
  },
  {
   "cell_type": "code",
   "execution_count": 48,
   "metadata": {},
   "outputs": [
    {
     "data": {
      "text/plain": [
       "(0.0, 1.0)"
      ]
     },
     "execution_count": 48,
     "metadata": {},
     "output_type": "execute_result"
    }
   ],
   "source": [
    "fit_linear([1, 2, 3, 4, 5], [1, 2, 3, 4, 5])"
   ]
  },
  {
   "cell_type": "code",
   "execution_count": 49,
   "metadata": {},
   "outputs": [
    {
     "data": {
      "text/plain": [
       "(1.0, 10.0)"
      ]
     },
     "execution_count": 49,
     "metadata": {},
     "output_type": "execute_result"
    }
   ],
   "source": [
    "fit_linear([1, 2, 3, 4, 5], [11, 21, 31, 41, 51])"
   ]
  },
  {
   "cell_type": "code",
   "execution_count": 50,
   "metadata": {},
   "outputs": [],
   "source": [
    "def numpy_seno(inicial, final, n_elementos):\n",
    "    vetor = None\n",
    "    ### Seu código inicia aqui ###\n",
    "    import random\n",
    "    #np.random.seed(0)\n",
    "    n_random = np.linspace(inicial, final, num=11)\n",
    "    #print (n_random)\n",
    "    n_seno = np.sin(n_random)\n",
    "    vetor = n_seno\n",
    "    ### Seu código termina aqui ###\n",
    "    return vetor"
   ]
  },
  {
   "cell_type": "code",
   "execution_count": 51,
   "metadata": {},
   "outputs": [
    {
     "data": {
      "text/plain": [
       "array([0.        , 0.09983342, 0.19866933, 0.29552021, 0.38941834,\n",
       "       0.47942554, 0.56464247, 0.64421769, 0.71735609, 0.78332691,\n",
       "       0.84147098])"
      ]
     },
     "execution_count": 51,
     "metadata": {},
     "output_type": "execute_result"
    }
   ],
   "source": [
    "numpy_seno(0, 1, 11)"
   ]
  },
  {
   "cell_type": "code",
   "execution_count": 52,
   "metadata": {},
   "outputs": [],
   "source": [
    "def cria_ndarray(linhas, colunas, min, max):\n",
    "    np.random.seed(137)\n",
    "    matrix = None\n",
    "    ### Seu código inicia aqui ###\t\n",
    "    m_random = np.random.uniform(low= min, high= max, size=(linhas, colunas))\n",
    "    matrix = m_random\n",
    "    ### Seu código termina aqui ###\n",
    "    return matrix"
   ]
  },
  {
   "cell_type": "code",
   "execution_count": 53,
   "metadata": {},
   "outputs": [
    {
     "data": {
      "text/plain": [
       "array([[1.94385021, 1.08854403, 1.69537097],\n",
       "       [1.69999035, 1.49960034, 1.50270302]])"
      ]
     },
     "execution_count": 53,
     "metadata": {},
     "output_type": "execute_result"
    }
   ],
   "source": [
    "cria_ndarray(2, 3, 1, 2)"
   ]
  }
 ],
 "metadata": {
  "interpreter": {
   "hash": "bd541a2a30799b7f615710d01ca827a8b409e14cf7373f72dbac995137a11fad"
  },
  "kernelspec": {
   "display_name": "Python 3.10.0 64-bit",
   "language": "python",
   "name": "python3"
  },
  "language_info": {
   "codemirror_mode": {
    "name": "ipython",
    "version": 3
   },
   "file_extension": ".py",
   "mimetype": "text/x-python",
   "name": "python",
   "nbconvert_exporter": "python",
   "pygments_lexer": "ipython3",
   "version": "3.10.0"
  },
  "orig_nbformat": 4
 },
 "nbformat": 4,
 "nbformat_minor": 2
}
